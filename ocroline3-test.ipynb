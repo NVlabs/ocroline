{
 "cells": [
  {
   "cell_type": "code",
   "execution_count": 1,
   "metadata": {},
   "outputs": [
    {
     "name": "stdout",
     "output_type": "stream",
     "text": [
      "Populating the interactive namespace from numpy and matplotlib\n"
     ]
    }
   ],
   "source": [
    "%pylab inline\n",
    "#sys.path.append('../torchmore')"
   ]
  },
  {
   "cell_type": "code",
   "execution_count": 2,
   "metadata": {},
   "outputs": [],
   "source": [
    "import os\n",
    "import sys\n",
    "import argparse\n",
    "import itertools\n",
    "from itertools import islice"
   ]
  },
  {
   "cell_type": "code",
   "execution_count": 3,
   "metadata": {},
   "outputs": [],
   "source": [
    "import numpy as np\n",
    "import pylab\n",
    "import psutil\n",
    "import editdistance\n",
    "import torch\n",
    "import torch.optim as optim\n",
    "from torch import nn"
   ]
  },
  {
   "cell_type": "code",
   "execution_count": 4,
   "metadata": {},
   "outputs": [],
   "source": [
    "import torchmore as tm\n",
    "import torchtrainers as tt\n",
    "import webdataset as wds\n",
    "import tarproclib as tpl"
   ]
  },
  {
   "cell_type": "code",
   "execution_count": 5,
   "metadata": {},
   "outputs": [],
   "source": [
    "from ocroline import lineest\n",
    "from ocroline import sequence\n",
    "from torchmore import helpers\n",
    "codec = sequence.ascii_codec"
   ]
  },
  {
   "cell_type": "code",
   "execution_count": 6,
   "metadata": {},
   "outputs": [
    {
     "name": "stdout",
     "output_type": "stream",
     "text": [
      "Continuum Mechanics\n"
     ]
    },
    {
     "data": {
      "image/png": "[encoded data removed]",
      "text/plain": [
       "<Figure size 432x288 with 1 Axes>"
      ]
     },
     "metadata": {
      "needs_background": "light"
     },
     "output_type": "display_data"
    }
   ],
   "source": [
    "ds = wds.WebDataset(\"/mdata/tmb-ocr/uw3-dew-training.tgz\", extensions=\"png txt\")\n",
    "for image, txt in ds:\n",
    "    break\n",
    "imshow(image)\n",
    "print(txt)"
   ]
  },
  {
   "cell_type": "code",
   "execution_count": 7,
   "metadata": {},
   "outputs": [],
   "source": [
    "import math\n",
    "def batchedbuckets(bs=5, scale=1.5):\n",
    "    buckets = {}\n",
    "    def f(data):\n",
    "        for image, text in data:\n",
    "            l = image.shape[1]\n",
    "            r = int(math.floor(math.log(l) / math.log(scale)))\n",
    "            batched = buckets.get(r, [[], []])\n",
    "            batched[0].append(image)\n",
    "            batched[1].append(text)\n",
    "            #print(l, r, len(batched[0]))\n",
    "            buckets[r] = batched\n",
    "            if len(batched[0])>bs:\n",
    "                yield tuple(batched)\n",
    "                batched[0] = []\n",
    "                batched[1] = []\n",
    "        for r, batched in list(buckets.items()):\n",
    "            if len(batched[0])==0: continue\n",
    "            yield tuple(batched)\n",
    "    return f"
   ]
  },
  {
   "cell_type": "code",
   "execution_count": 8,
   "metadata": {},
   "outputs": [
    {
     "name": "stdout",
     "output_type": "stream",
     "text": [
      "(6, 48, 1295) (6, 159, 97)\n",
      "(6, 48, 1345) (6, 161, 97)\n",
      "(6, 48, 1405) (6, 163, 97)\n",
      "(6, 48, 1429) (6, 167, 97)\n",
      "(6, 48, 1680) (6, 185, 97)\n",
      "(6, 48, 278) (6, 39, 97)\n",
      "(6, 48, 1682) (6, 199, 97)\n",
      "(6, 48, 654) (6, 77, 97)\n",
      "(6, 48, 1683) (6, 193, 97)\n",
      "(6, 48, 1445) (6, 173, 97)\n",
      "(6, 48, 1682) (6, 187, 97)\n",
      "(6, 48, 433) (6, 53, 97)\n",
      "(6, 48, 930) (6, 113, 97)\n",
      "(6, 48, 1446) (6, 165, 97)\n",
      "(6, 48, 1037) (6, 121, 97)\n",
      "(6, 48, 951) (6, 119, 97)\n",
      "(6, 48, 1261) (6, 137, 97)\n",
      "(6, 48, 1262) (6, 133, 97)\n",
      "(6, 48, 994) (6, 125, 97)\n",
      "(6, 48, 951) (6, 123, 97)\n"
     ]
    },
    {
     "data": {
      "image/png": "[encoded data removed]",
      "text/plain": [
       "<Figure size 432x288 with 2 Axes>"
      ]
     },
     "metadata": {
      "needs_background": "light"
     },
     "output_type": "display_data"
    }
   ],
   "source": [
    "ds = wds.WebDataset(\"/mdata/tmb-ocr/uw3-dew-training.tgz\",\n",
    "                    pipeline=batchedbuckets(),\n",
    "                    extensions=\"png txt\")\n",
    "for image, txt in islice(ds, 0, 20):\n",
    "    image = sequence.makebatch(image)\n",
    "    image = np.mean(image, axis=3)\n",
    "    txt = codec.encode_batch(txt)\n",
    "    print(image.shape, txt.shape)\n",
    "subplot(211); imshow(image[0])\n",
    "subplot(212); imshow(txt[0])\n",
    "image = torch.Tensor(image).unsqueeze(3)\n",
    "txt = torch.Tensor(txt)"
   ]
  },
  {
   "cell_type": "code",
   "execution_count": 9,
   "metadata": {},
   "outputs": [
    {
     "data": {
      "text/plain": [
       "<module 'torchmore.layers' from '/usr/local/lib/python3.7/dist-packages/torchmore/layers.py'>"
      ]
     },
     "execution_count": 9,
     "metadata": {},
     "output_type": "execute_result"
    }
   ],
   "source": [
    "from torchmore import flex\n",
    "from torchmore import layers\n",
    "from importlib import reload\n",
    "reload(layers)"
   ]
  },
  {
   "cell_type": "code",
   "execution_count": 41,
   "metadata": {},
   "outputs": [
    {
     "name": "stdout",
     "output_type": "stream",
     "text": [
      "torch.Size([6, 951, 97])\n"
     ]
    }
   ],
   "source": [
    "reload(layers)\n",
    "reload(flex)\n",
    "#flex.verbose = True\n",
    "\n",
    "ninput = 48\n",
    "noutput = 97\n",
    "\n",
    "B, W, H, D = (0, 900), (0, 9000), ninput, (0, 5000)\n",
    "model = nn.Sequential(\n",
    "    # reorder to Torch conventions\n",
    "    layers.Reorder(\"BHWD\", \"BDHW\"),\n",
    "    layers.CheckSizes(B, 1, H, W, name=\"input\"),\n",
    "    # convolutional layers\n",
    "    flex.Conv2d(100, 3, padding=(1, 1)),  # BDWH\n",
    "    nn.ReLU(),\n",
    "    # turn image into sequence\n",
    "    layers.Reshape(0, [1, 2], 3),\n",
    "    layers.CheckSizes(B, W, D),\n",
    "    # run 1D LSTM\n",
    "    flex.Lstm1(100),\n",
    "    flex.Conv1d(noutput, 1),\n",
    "    # reorder\n",
    "    layers.Reorder(\"BDW\", \"BWD\"),\n",
    "    layers.CheckSizes(B, W, noutput, name=\"output\"))\n",
    "\n",
    "print(model.forward(image).shape)\n",
    "model.cuda()\n",
    "\n",
    "optimizer = optim.SGD(model.parameters(),\n",
    "                      lr=1e-4,\n",
    "                      momentum=0.9)"
   ]
  },
  {
   "cell_type": "code",
   "execution_count": 21,
   "metadata": {},
   "outputs": [
    {
     "name": "stdout",
     "output_type": "stream",
     "text": [
      "Help on built-in function softmax:\n",
      "\n",
      "softmax(...)\n",
      "\n"
     ]
    }
   ],
   "source": [
    "help(torch.softmax)"
   ]
  },
  {
   "cell_type": "code",
   "execution_count": null,
   "metadata": {},
   "outputs": [],
   "source": []
  },
  {
   "cell_type": "code",
   "execution_count": 45,
   "metadata": {},
   "outputs": [
    {
     "name": "stdout",
     "output_type": "stream",
     "text": [
      "torch.Size([6, 48, 951, 1])\n",
      "torch.Size([6, 123, 97])\n",
      "cuda:0 cuda:0\n",
      "torch.Size([6, 951, 97])\n",
      "torch.Size([6, 951, 97])\n"
     ]
    }
   ],
   "source": [
    "reload(helpers)\n",
    "\n",
    "model.cuda()\n",
    "\n",
    "def train_batch(model, input, target):\n",
    "    \"\"\"Train a BHWD input batch against a BWD target batch.\"\"\"\n",
    "    assert input.size(0) == target.size(0)\n",
    "    b, h, w, d = input.size()\n",
    "    assert d == 1\n",
    "    input = input.cuda()\n",
    "    target = target.cuda()\n",
    "    logits = model.forward(input)\n",
    "    probs = torch.softmax(logits, 2)\n",
    "    optimizer.zero_grad()\n",
    "    deltas, aligned = helpers.ctc_loss(probs, target)\n",
    "    print(deltas.device, aligned.device)\n",
    "    optimizer.step()\n",
    "    return probs, aligned\n",
    "\n",
    "print(image.shape)\n",
    "print(txt.shape)\n",
    "probs, aligned = train_batch(model, image, txt)\n",
    "print(probs.shape)\n",
    "print(aligned.shape)"
   ]
  },
  {
   "cell_type": "code",
   "execution_count": 49,
   "metadata": {},
   "outputs": [
    {
     "data": {
      "text/plain": [
       "<matplotlib.image.AxesImage at 0x7fa15afa6f28>"
      ]
     },
     "execution_count": 49,
     "metadata": {},
     "output_type": "execute_result"
    },
    {
     "data": {
      "image/png": "[encoded data removed]",
      "text/plain": [
       "<Figure size 432x288 with 1 Axes>"
      ]
     },
     "metadata": {
      "needs_background": "light"
     },
     "output_type": "display_data"
    }
   ],
   "source": [
    "imshow(aligned[0].detach().cpu().numpy().T[:,:100])"
   ]
  },
  {
   "cell_type": "code",
   "execution_count": null,
   "metadata": {},
   "outputs": [],
   "source": []
  }
 ],
 "metadata": {
  "kernelspec": {
   "display_name": "Python 3",
   "language": "python",
   "name": "python3"
  },
  "language_info": {
   "codemirror_mode": {
    "name": "ipython",
    "version": 3
   },
   "file_extension": ".py",
   "mimetype": "text/x-python",
   "name": "python",
   "nbconvert_exporter": "python",
   "pygments_lexer": "ipython3",
   "version": "3.7.3"
  }
 },
 "nbformat": 4,
 "nbformat_minor": 4
}
